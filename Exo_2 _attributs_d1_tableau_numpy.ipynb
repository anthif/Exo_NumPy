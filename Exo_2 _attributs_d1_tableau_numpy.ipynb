{
 "cells": [
  {
   "cell_type": "code",
   "execution_count": null,
   "id": "85b626a5",
   "metadata": {},
   "outputs": [],
   "source": [
    "# Exercice 2 : les attributs d'un tableau numpy\n",
    "# Soit le tableau a = np.array([[1,2,3],[4,5,6],[7,8,9]]).\n",
    "# 1. Afficher le nombre de lignes et de colonnes\n",
    "# 2. Afficher la dimension de mon tableau\n",
    "# 3. Afficher le nombre d'élément de mon tableau\n",
    "# 4. Afficher le type des éléments du tableau"
   ]
  },
  {
   "cell_type": "code",
   "execution_count": 9,
   "id": "a2c62c46",
   "metadata": {},
   "outputs": [
    {
     "name": "stdout",
     "output_type": "stream",
     "text": [
      "Rows =  3\n",
      "Columns =  3\n"
     ]
    }
   ],
   "source": [
    "# 1_Afficher le nombre de lignes et de colonnes\n",
    "import numpy as np\n",
    "\n",
    "a = np.array([[1,2,3],[4,5,6],[7,8,9]])\n",
    "\n",
    "rows, columns = array.shape\n",
    "\n",
    "print(\"Rows = \", rows)\n",
    "print(\"Columns = \", columns)"
   ]
  },
  {
   "cell_type": "code",
   "execution_count": 7,
   "id": "d981d723",
   "metadata": {},
   "outputs": [],
   "source": [
    "# 2_Afficher la dimension de mon tableau\n",
    "a = np.array([[1,2,3],[4,5,6],[7,8,9]])"
   ]
  },
  {
   "cell_type": "code",
   "execution_count": 8,
   "id": "d4651c04",
   "metadata": {},
   "outputs": [
    {
     "data": {
      "text/plain": [
       "array([[1, 2, 3],\n",
       "       [4, 5, 6],\n",
       "       [7, 8, 9]])"
      ]
     },
     "execution_count": 8,
     "metadata": {},
     "output_type": "execute_result"
    }
   ],
   "source": [
    "# nous avons obtenu un Tableau à 3 dimension\n",
    "a"
   ]
  },
  {
   "cell_type": "code",
   "execution_count": 6,
   "id": "836fb583",
   "metadata": {},
   "outputs": [
    {
     "data": {
      "text/plain": [
       "9"
      ]
     },
     "execution_count": 6,
     "metadata": {},
     "output_type": "execute_result"
    }
   ],
   "source": [
    "# 3_Afficher le nombre d'élément de mon tableau\n",
    "# La fonction numpy.size() renvoie le nombre d’éléments du tableau\n",
    "np.size(a)"
   ]
  },
  {
   "cell_type": "code",
   "execution_count": 17,
   "id": "6924fb21",
   "metadata": {},
   "outputs": [
    {
     "data": {
      "text/plain": [
       "numpy.ndarray"
      ]
     },
     "execution_count": 17,
     "metadata": {},
     "output_type": "execute_result"
    }
   ],
   "source": [
    "# 4_Afficher le type des éléments du tableau\n",
    "type(a)"
   ]
  },
  {
   "cell_type": "code",
   "execution_count": null,
   "id": "955721f2",
   "metadata": {},
   "outputs": [],
   "source": []
  }
 ],
 "metadata": {
  "kernelspec": {
   "display_name": "Python 3 (ipykernel)",
   "language": "python",
   "name": "python3"
  },
  "language_info": {
   "codemirror_mode": {
    "name": "ipython",
    "version": 3
   },
   "file_extension": ".py",
   "mimetype": "text/x-python",
   "name": "python",
   "nbconvert_exporter": "python",
   "pygments_lexer": "ipython3",
   "version": "3.11.5"
  }
 },
 "nbformat": 4,
 "nbformat_minor": 5
}
