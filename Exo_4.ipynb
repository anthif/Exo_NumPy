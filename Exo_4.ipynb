{
 "cells": [
  {
   "cell_type": "code",
   "execution_count": null,
   "id": "ac15b76e",
   "metadata": {},
   "outputs": [],
   "source": [
    "Exercice 4 :\n",
    "1. Créer un tableau de 4 lignes et 3 colonnes rempli de 11 nombres entiers\n",
    "aléatoires compris entre 0 et 9\n",
    "2. Quel est le type des éléments du tableau ?\n",
    "3. Changer de type des éléments du tableau en float32\n",
    "4. Ajouter le chiffre 3 à la fin du tableau à une dimension\n",
    "5. Transformer le tableau en matrice dénommée “a” de 3 lignes et 4 colonnes\n",
    "6. Créer une matrice dénommée “b” de 3 lignes et 4 colonnes remplie de série\n",
    "d'entiers successifs allant de 1 à 12 inclus\n",
    "7. Créer une matrice dénommée “c” qui est la concaténation des deux tableaux\n",
    "“a” et “b” dans le sens horizontale\n",
    "8. Créer une matrice dénommée “d” qui est la concaténation des deux tableaux\n",
    "“a” et “b” dans le sens vertical\n",
    "9. Aplatir un tableau “d”\n",
    "10.Supprimer dernier élément du tableau"
   ]
  },
  {
   "cell_type": "code",
   "execution_count": 57,
   "id": "8affcff2",
   "metadata": {},
   "outputs": [],
   "source": [
    "#1. Créer un tableau de 4 lignes et 3 colonnes rempli de 11 nombres entiers aléatoires compris entre 0 et 9\n",
    "A4=np.zeros((4, 3), dtype = \"int\")"
   ]
  },
  {
   "cell_type": "code",
   "execution_count": 58,
   "id": "3f9f7559",
   "metadata": {},
   "outputs": [
    {
     "data": {
      "text/plain": [
       "array([[0, 0, 0],\n",
       "       [0, 0, 0],\n",
       "       [0, 0, 0],\n",
       "       [0, 0, 0]])"
      ]
     },
     "execution_count": 58,
     "metadata": {},
     "output_type": "execute_result"
    }
   ],
   "source": [
    "A4"
   ]
  },
  {
   "cell_type": "code",
   "execution_count": 20,
   "id": "8fb0b603",
   "metadata": {},
   "outputs": [],
   "source": [
    "A3=A4=np.random.randint(0, 10, size=(4,3))"
   ]
  },
  {
   "cell_type": "code",
   "execution_count": 21,
   "id": "759f434c",
   "metadata": {},
   "outputs": [
    {
     "data": {
      "text/plain": [
       "array([[4, 5, 1],\n",
       "       [9, 8, 3],\n",
       "       [6, 3, 8],\n",
       "       [9, 3, 2]])"
      ]
     },
     "execution_count": 21,
     "metadata": {},
     "output_type": "execute_result"
    }
   ],
   "source": [
    "A3"
   ]
  },
  {
   "cell_type": "code",
   "execution_count": 63,
   "id": "381d2c03",
   "metadata": {},
   "outputs": [],
   "source": [
    "# 2. Quel est le type des éléments du tableau ?\n",
    "A2=A3.dtype"
   ]
  },
  {
   "cell_type": "code",
   "execution_count": 64,
   "id": "953e1809",
   "metadata": {},
   "outputs": [
    {
     "data": {
      "text/plain": [
       "dtype('int32')"
      ]
     },
     "execution_count": 64,
     "metadata": {},
     "output_type": "execute_result"
    }
   ],
   "source": [
    "A2"
   ]
  },
  {
   "cell_type": "code",
   "execution_count": 23,
   "id": "5e3b189d",
   "metadata": {},
   "outputs": [],
   "source": [
    "# 3. Changer de type des éléments du tableau en float32\n",
    "A1=np.zeros((4, 3), dtype = \"float\")"
   ]
  },
  {
   "cell_type": "code",
   "execution_count": 67,
   "id": "c93e1615",
   "metadata": {},
   "outputs": [
    {
     "data": {
      "text/plain": [
       "array([[0., 0., 0.],\n",
       "       [0., 0., 0.],\n",
       "       [0., 0., 0.],\n",
       "       [0., 0., 0.]])"
      ]
     },
     "execution_count": 67,
     "metadata": {},
     "output_type": "execute_result"
    }
   ],
   "source": [
    "A1"
   ]
  },
  {
   "cell_type": "code",
   "execution_count": 42,
   "id": "c5235db8",
   "metadata": {},
   "outputs": [],
   "source": [
    "# 3. Changer de type des éléments du tableau en float32\n",
    "a=np.array([[6, 1, 1], [4, 3, 5], [2, 2, 6], [7, 9, 4]], dtype=\"float32\")"
   ]
  },
  {
   "cell_type": "code",
   "execution_count": 43,
   "id": "02c47808",
   "metadata": {},
   "outputs": [
    {
     "data": {
      "text/plain": [
       "array([[6., 1., 1.],\n",
       "       [4., 3., 5.],\n",
       "       [2., 2., 6.],\n",
       "       [7., 9., 4.]], dtype=float32)"
      ]
     },
     "execution_count": 43,
     "metadata": {},
     "output_type": "execute_result"
    }
   ],
   "source": [
    "a"
   ]
  },
  {
   "cell_type": "code",
   "execution_count": 68,
   "id": "0ef00b05",
   "metadata": {},
   "outputs": [],
   "source": [
    "# 4. Ajouter le chiffre 3 à la fin du tableau à une dimension\n",
    "# Nous allons créer un tableau à une dimension\n",
    "A0=np.zeros((3), dtype = \"int\")"
   ]
  },
  {
   "cell_type": "code",
   "execution_count": 69,
   "id": "2c20bad8",
   "metadata": {},
   "outputs": [
    {
     "data": {
      "text/plain": [
       "array([0, 0, 0])"
      ]
     },
     "execution_count": 69,
     "metadata": {},
     "output_type": "execute_result"
    }
   ],
   "source": [
    "A0"
   ]
  },
  {
   "cell_type": "code",
   "execution_count": 70,
   "id": "e839f6c5",
   "metadata": {},
   "outputs": [],
   "source": [
    "# Ajoutons 3 à la fin du tableau\n",
    "B4=np.append(A0,3)"
   ]
  },
  {
   "cell_type": "code",
   "execution_count": 71,
   "id": "521273bc",
   "metadata": {},
   "outputs": [
    {
     "data": {
      "text/plain": [
       "array([0, 0, 0, 3])"
      ]
     },
     "execution_count": 71,
     "metadata": {},
     "output_type": "execute_result"
    }
   ],
   "source": [
    "B4"
   ]
  },
  {
   "cell_type": "code",
   "execution_count": 34,
   "id": "06ab87f1",
   "metadata": {},
   "outputs": [],
   "source": [
    "# 5. Transformer le tableau en matrice dénommée “a” de 3 lignes et 4 colonnes\n",
    "a=np.array([[0, 0, 0, 0],\n",
    "    [0, 0, 0, 0],\n",
    "    [0, 0, 0, 0]])\n",
    "    "
   ]
  },
  {
   "cell_type": "code",
   "execution_count": 35,
   "id": "9d5e4e5c",
   "metadata": {},
   "outputs": [
    {
     "data": {
      "text/plain": [
       "array([[0, 0, 0, 0],\n",
       "       [0, 0, 0, 0],\n",
       "       [0, 0, 0, 0]])"
      ]
     },
     "execution_count": 35,
     "metadata": {},
     "output_type": "execute_result"
    }
   ],
   "source": [
    "a"
   ]
  },
  {
   "cell_type": "code",
   "execution_count": 16,
   "id": "78657b04",
   "metadata": {},
   "outputs": [],
   "source": [
    "import numpy as np\n",
    "# 6. Créer une matrice dénommée “b” de 3 lignes et 4 colonnes remplie de série d'entiers successifs allant de 1 à 12 inclus\n",
    "b=np.arange(1,13).reshape(3,4)"
   ]
  },
  {
   "cell_type": "code",
   "execution_count": 17,
   "id": "9e6d6883",
   "metadata": {},
   "outputs": [
    {
     "data": {
      "text/plain": [
       "array([[ 1,  2,  3,  4],\n",
       "       [ 5,  6,  7,  8],\n",
       "       [ 9, 10, 11, 12]])"
      ]
     },
     "execution_count": 17,
     "metadata": {},
     "output_type": "execute_result"
    }
   ],
   "source": [
    "b"
   ]
  },
  {
   "cell_type": "code",
   "execution_count": 26,
   "id": "9ac2d1c2",
   "metadata": {},
   "outputs": [
    {
     "data": {
      "text/plain": [
       "(4, 3)"
      ]
     },
     "execution_count": 26,
     "metadata": {},
     "output_type": "execute_result"
    }
   ],
   "source": [
    "b.shape"
   ]
  },
  {
   "cell_type": "code",
   "execution_count": 14,
   "id": "ea63533c",
   "metadata": {},
   "outputs": [
    {
     "data": {
      "text/plain": [
       "array([[1, 2, 3],\n",
       "       [4, 5, 6],\n",
       "       [7, 8, 9]])"
      ]
     },
     "execution_count": 14,
     "metadata": {},
     "output_type": "execute_result"
    }
   ],
   "source": [
    "#test\n",
    "arr1 = np.arange(1,10).reshape(3,3)\n",
    "arr1\n"
   ]
  },
  {
   "cell_type": "code",
   "execution_count": null,
   "id": "0e017fc5",
   "metadata": {},
   "outputs": [],
   "source": [
    "# 7. Créer une matrice dénommée “c” qui est la concaténation des deux tableaux\n",
    "# “a” et “b” dans le sens horizontale"
   ]
  },
  {
   "cell_type": "code",
   "execution_count": 41,
   "id": "f0f31b57",
   "metadata": {},
   "outputs": [
    {
     "data": {
      "text/plain": [
       "array([[ 0,  0,  0,  0],\n",
       "       [ 0,  0,  0,  0],\n",
       "       [ 0,  0,  0,  0],\n",
       "       [ 1,  2,  3,  4],\n",
       "       [ 5,  6,  7,  8],\n",
       "       [ 9, 10, 11, 12]])"
      ]
     },
     "execution_count": 41,
     "metadata": {},
     "output_type": "execute_result"
    }
   ],
   "source": [
    "c=np.concatenate((a, b), axis=0)\n",
    "c"
   ]
  },
  {
   "cell_type": "code",
   "execution_count": 40,
   "id": "0b4022eb",
   "metadata": {},
   "outputs": [
    {
     "data": {
      "text/plain": [
       "array([[ 0,  0,  0,  0,  1,  2,  3,  4],\n",
       "       [ 0,  0,  0,  0,  5,  6,  7,  8],\n",
       "       [ 0,  0,  0,  0,  9, 10, 11, 12]])"
      ]
     },
     "execution_count": 40,
     "metadata": {},
     "output_type": "execute_result"
    }
   ],
   "source": [
    "#8. Créer une matrice dénommée “d” qui est la concaténation des deux tableaux\n",
    "# \"a” et “b” dans le sens vertical\n",
    "d=np.concatenate((a, b), axis=1)\n",
    "d"
   ]
  },
  {
   "cell_type": "code",
   "execution_count": 43,
   "id": "887e617a",
   "metadata": {},
   "outputs": [
    {
     "data": {
      "text/plain": [
       "array([ 0,  0,  0,  0,  1,  2,  3,  4,  0,  0,  0,  0,  5,  6,  7,  8,  0,\n",
       "        0,  0,  0,  9, 10, 11, 12])"
      ]
     },
     "execution_count": 43,
     "metadata": {},
     "output_type": "execute_result"
    }
   ],
   "source": [
    "# 9. Aplatir un tableau “d”(flatten ou ravel)\n",
    "e = d.flatten()\n",
    "e"
   ]
  },
  {
   "cell_type": "code",
   "execution_count": 47,
   "id": "3c220809",
   "metadata": {},
   "outputs": [
    {
     "data": {
      "text/plain": [
       "array([ 0,  0,  0,  0,  1,  2,  3,  4,  0,  0,  0,  0,  5,  6,  7,  8,  0,\n",
       "        0,  0,  0,  9, 10, 11, 12])"
      ]
     },
     "execution_count": 47,
     "metadata": {},
     "output_type": "execute_result"
    }
   ],
   "source": [
    "e1 = d.ravel()\n",
    "e1"
   ]
  },
  {
   "cell_type": "code",
   "execution_count": 50,
   "id": "f540dfe3",
   "metadata": {},
   "outputs": [
    {
     "data": {
      "text/plain": [
       "array([ 0,  0,  0,  0,  1,  2,  3,  4,  0,  0,  0,  0,  5,  6,  7,  8,  0,\n",
       "        0,  0,  0,  9, 10, 11])"
      ]
     },
     "execution_count": 50,
     "metadata": {},
     "output_type": "execute_result"
    }
   ],
   "source": [
    "# 10.Supprimer dernier élément du tableau\n",
    "f=np.delete(e1, -1)\n",
    "f"
   ]
  },
  {
   "cell_type": "code",
   "execution_count": null,
   "id": "769857bd",
   "metadata": {},
   "outputs": [],
   "source": []
  },
  {
   "cell_type": "code",
   "execution_count": null,
   "id": "6e53871e",
   "metadata": {},
   "outputs": [],
   "source": []
  }
 ],
 "metadata": {
  "kernelspec": {
   "display_name": "Python 3 (ipykernel)",
   "language": "python",
   "name": "python3"
  },
  "language_info": {
   "codemirror_mode": {
    "name": "ipython",
    "version": 3
   },
   "file_extension": ".py",
   "mimetype": "text/x-python",
   "name": "python",
   "nbconvert_exporter": "python",
   "pygments_lexer": "ipython3",
   "version": "3.11.5"
  }
 },
 "nbformat": 4,
 "nbformat_minor": 5
}
