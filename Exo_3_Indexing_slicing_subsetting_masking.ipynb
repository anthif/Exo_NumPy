{
 "cells": [
  {
   "cell_type": "code",
   "execution_count": null,
   "id": "fb8df743",
   "metadata": {},
   "outputs": [],
   "source": [
    "# Exercice 3 : Indexing, slicing, subsetting, masking\n",
    "# Soit le tableau a = np.array([[1,2,3],[4,5,6],[7,8,9]]).\n",
    "# 1. afficher la valeur 5 qui est dans le tableau\n",
    "# 2. Remplacer le 5 qui est dans le tableau par 0\n",
    "# 3. afficher les chiffres 3, 6 et 9 du tableau"
   ]
  },
  {
   "cell_type": "code",
   "execution_count": 22,
   "id": "244e02b9",
   "metadata": {},
   "outputs": [
    {
     "ename": "IndentationError",
     "evalue": "unexpected indent (370270557.py, line 2)",
     "output_type": "error",
     "traceback": [
      "\u001b[1;36m  Cell \u001b[1;32mIn[22], line 2\u001b[1;36m\u001b[0m\n\u001b[1;33m    z = np.array([[1, 2, 3], [4 ,5 ,6], [7, 8, 9]])\u001b[0m\n\u001b[1;37m    ^\u001b[0m\n\u001b[1;31mIndentationError\u001b[0m\u001b[1;31m:\u001b[0m unexpected indent\n"
     ]
    }
   ],
   "source": [
    "# 1. afficher la valeur 5 qui est dans le tableau\n",
    " z = np.array([[1, 2, 3], [4 ,5 ,6], [7, 8, 9]])\n",
    "    z[5]"
   ]
  },
  {
   "cell_type": "code",
   "execution_count": 13,
   "id": "2cbee3e8",
   "metadata": {},
   "outputs": [
    {
     "ename": "NameError",
     "evalue": "name 'a' is not defined",
     "output_type": "error",
     "traceback": [
      "\u001b[1;31m---------------------------------------------------------------------------\u001b[0m",
      "\u001b[1;31mNameError\u001b[0m                                 Traceback (most recent call last)",
      "Cell \u001b[1;32mIn[13], line 1\u001b[0m\n\u001b[1;32m----> 1\u001b[0m a[\u001b[38;5;241m4\u001b[39m]\n",
      "\u001b[1;31mNameError\u001b[0m: name 'a' is not defined"
     ]
    }
   ],
   "source": [
    "a[4]"
   ]
  },
  {
   "cell_type": "code",
   "execution_count": 23,
   "id": "b2c54a6b",
   "metadata": {},
   "outputs": [
    {
     "ename": "NameError",
     "evalue": "name 'zz' is not defined",
     "output_type": "error",
     "traceback": [
      "\u001b[1;31m---------------------------------------------------------------------------\u001b[0m",
      "\u001b[1;31mNameError\u001b[0m                                 Traceback (most recent call last)",
      "Cell \u001b[1;32mIn[23], line 1\u001b[0m\n\u001b[1;32m----> 1\u001b[0m zz[zz\u001b[38;5;241m==\u001b[39m\u001b[38;5;241m5\u001b[39m] \u001b[38;5;241m=\u001b[39m \u001b[38;5;241m0\u001b[39m\n",
      "\u001b[1;31mNameError\u001b[0m: name 'zz' is not defined"
     ]
    }
   ],
   "source": [
    "zz[zz==5] = 0"
   ]
  },
  {
   "cell_type": "code",
   "execution_count": null,
   "id": "df361fd9",
   "metadata": {},
   "outputs": [],
   "source": [
    "Z[3]"
   ]
  }
 ],
 "metadata": {
  "kernelspec": {
   "display_name": "Python 3 (ipykernel)",
   "language": "python",
   "name": "python3"
  },
  "language_info": {
   "codemirror_mode": {
    "name": "ipython",
    "version": 3
   },
   "file_extension": ".py",
   "mimetype": "text/x-python",
   "name": "python",
   "nbconvert_exporter": "python",
   "pygments_lexer": "ipython3",
   "version": "3.11.5"
  }
 },
 "nbformat": 4,
 "nbformat_minor": 5
}
