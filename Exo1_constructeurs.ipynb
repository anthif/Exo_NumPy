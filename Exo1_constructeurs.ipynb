{
 "cells": [
  {
   "cell_type": "code",
   "execution_count": null,
   "id": "48f02c8d",
   "metadata": {},
   "outputs": [],
   "source": [
    "Exercice 1 : les constructeurs\n",
    "1. Constructeur un tableau numpy qui contient les éléments suivants : 1,5,7,8.\n",
    "2. Constructeur un tableau numpy qui contient les éléments suivants :\n",
    "1,2,3,4,5,6,7,8,9\n",
    "3. Créer un tableau de 10 éléments rempli de 0\n",
    "4. Créer un tableau de 2 lignes 5 colonnes rempli de 0\n",
    "5. Créer un tableau de 10 éléments rempli de 1\n",
    "6. Créer un tableau de 2 lignes 5 colonnes rempli de 1\n",
    "7. Créer un tableau de 10 éléments rempli 8.5\n",
    "8. Créer un tableau de série d'entiers successifs allant de 1 à 9 inclus\n",
    "9. Créer un tableau de 3 lignes et 3 colonnes rempli de série d'entiers successifs\n",
    "allant de 1 à 9 inclus\n",
    "10.Créer une matrice identité de 4 lignes 4 colonnes\n",
    "11. Tableau rempli de valeurs aléatoires normales centrées en zéro\n",
    "12.Créer un tableau rempli de 20 valeurs aléatoires entières comprises entre 1 et\n",
    "10\n",
    "13.Transformer le tableau précédent en matrice de 4 lignes et 5 colonnes\n",
    "14.Créer un tableau de 5 éléments compris entre 0 et 1 avec une amplitude\n",
    "égale\n",
    "Exercice 2 : les attribut"
   ]
  },
  {
   "cell_type": "code",
   "execution_count": 7,
   "id": "bde164d2",
   "metadata": {},
   "outputs": [],
   "source": [
    "# 1_Constructeur d'un tableau qui contien les éléments[1,5,7,8]\n",
    "import numpy as np\n",
    "a=np.array([1, 5, 7, 8])"
   ]
  },
  {
   "cell_type": "code",
   "execution_count": 8,
   "id": "0bdd9887",
   "metadata": {},
   "outputs": [
    {
     "data": {
      "text/plain": [
       "array([1, 5, 7, 8])"
      ]
     },
     "execution_count": 8,
     "metadata": {},
     "output_type": "execute_result"
    }
   ],
   "source": [
    "a"
   ]
  },
  {
   "cell_type": "code",
   "execution_count": 13,
   "id": "5904d7ec",
   "metadata": {},
   "outputs": [],
   "source": [
    "# 2_Constructeur d'un tableau qui contien les éléments[1,2,3,4,5,6,7,8,9]\n",
    "b=np.array([1, 2, 3, 4, 5, 6, 7, 8, 9])"
   ]
  },
  {
   "cell_type": "code",
   "execution_count": 24,
   "id": "fee9a390",
   "metadata": {},
   "outputs": [
    {
     "data": {
      "text/plain": [
       "array([1, 2, 3, 4, 5, 6, 7, 8, 9])"
      ]
     },
     "execution_count": 24,
     "metadata": {},
     "output_type": "execute_result"
    }
   ],
   "source": [
    "b"
   ]
  },
  {
   "cell_type": "code",
   "execution_count": 25,
   "id": "acf904d5",
   "metadata": {},
   "outputs": [],
   "source": [
    "# 3_Créer un tableau de 10 éléments remplis de zero\n",
    "c=np.array([0]*10)"
   ]
  },
  {
   "cell_type": "code",
   "execution_count": 19,
   "id": "f79fa770",
   "metadata": {},
   "outputs": [
    {
     "data": {
      "text/plain": [
       "array([0, 0, 0, 0, 0, 0, 0, 0, 0, 0])"
      ]
     },
     "execution_count": 19,
     "metadata": {},
     "output_type": "execute_result"
    }
   ],
   "source": [
    "c"
   ]
  },
  {
   "cell_type": "code",
   "execution_count": 9,
   "id": "299c08a5",
   "metadata": {},
   "outputs": [
    {
     "data": {
      "text/plain": [
       "array([0., 0., 0., 0., 0., 0., 0., 0., 0., 0.])"
      ]
     },
     "execution_count": 9,
     "metadata": {},
     "output_type": "execute_result"
    }
   ],
   "source": [
    "#Autre façon de créer un tableau à 10 éléments rempli de zeros\n",
    "cc=np.zeros([10])\n"
   ]
  },
  {
   "cell_type": "code",
   "execution_count": 6,
   "id": "b93f172f",
   "metadata": {},
   "outputs": [],
   "source": [
    "import numpy as np\n",
    "# 4_Créer un tableau de 2 lignes 5 colonnes rempli de 0\n",
    "#Rmq: tant que l'on ne précise pas le type du contenu, il prend en compte des floats. Raison pour laquelle j'ai mis le typse\"int\" \n",
    "d=np.zeros([2, 5], dtype=\"int\")"
   ]
  },
  {
   "cell_type": "code",
   "execution_count": 7,
   "id": "04b92f8a",
   "metadata": {},
   "outputs": [
    {
     "data": {
      "text/plain": [
       "array([[0, 0, 0, 0, 0],\n",
       "       [0, 0, 0, 0, 0]])"
      ]
     },
     "execution_count": 7,
     "metadata": {},
     "output_type": "execute_result"
    }
   ],
   "source": [
    "d"
   ]
  },
  {
   "cell_type": "code",
   "execution_count": 10,
   "id": "71d8d520",
   "metadata": {},
   "outputs": [],
   "source": [
    "# 5_Tableau de 10 éléments rempli de 1\n",
    "e=np.array([1]*10)"
   ]
  },
  {
   "cell_type": "code",
   "execution_count": 14,
   "id": "aebf7f8e",
   "metadata": {},
   "outputs": [
    {
     "data": {
      "text/plain": [
       "array([1, 1, 1, 1, 1, 1, 1, 1, 1, 1])"
      ]
     },
     "execution_count": 14,
     "metadata": {},
     "output_type": "execute_result"
    }
   ],
   "source": [
    "e"
   ]
  },
  {
   "cell_type": "code",
   "execution_count": 17,
   "id": "d131e24f",
   "metadata": {},
   "outputs": [],
   "source": [
    "#Autre façon d'écrire un tableau de 10 éléments rmpli de 1\n",
    "ee=np.ones([10])"
   ]
  },
  {
   "cell_type": "code",
   "execution_count": 18,
   "id": "dc384335",
   "metadata": {},
   "outputs": [
    {
     "data": {
      "text/plain": [
       "array([1., 1., 1., 1., 1., 1., 1., 1., 1., 1.])"
      ]
     },
     "execution_count": 18,
     "metadata": {},
     "output_type": "execute_result"
    }
   ],
   "source": [
    "ee"
   ]
  },
  {
   "cell_type": "code",
   "execution_count": 19,
   "id": "d63b2a7e",
   "metadata": {},
   "outputs": [],
   "source": [
    "# 6_Créer un tableau de 2 lignes 5 colonnes rempli de 1\n",
    "# NB: il prend par défaut les éléments en type float\n",
    "f=np.ones([2, 5])"
   ]
  },
  {
   "cell_type": "code",
   "execution_count": 20,
   "id": "04146a0b",
   "metadata": {},
   "outputs": [
    {
     "data": {
      "text/plain": [
       "array([[1., 1., 1., 1., 1.],\n",
       "       [1., 1., 1., 1., 1.]])"
      ]
     },
     "execution_count": 20,
     "metadata": {},
     "output_type": "execute_result"
    }
   ],
   "source": [
    "f"
   ]
  },
  {
   "cell_type": "code",
   "execution_count": 21,
   "id": "ae0ae1f6",
   "metadata": {},
   "outputs": [],
   "source": [
    "# 7_Créer un tableau de 10 éléments rempli de 8.5\n",
    "g=np.array([8.5]*10)"
   ]
  },
  {
   "cell_type": "code",
   "execution_count": 22,
   "id": "f875669e",
   "metadata": {},
   "outputs": [
    {
     "data": {
      "text/plain": [
       "array([8.5, 8.5, 8.5, 8.5, 8.5, 8.5, 8.5, 8.5, 8.5, 8.5])"
      ]
     },
     "execution_count": 22,
     "metadata": {},
     "output_type": "execute_result"
    }
   ],
   "source": [
    "g"
   ]
  },
  {
   "cell_type": "code",
   "execution_count": 38,
   "id": "e428e932",
   "metadata": {},
   "outputs": [],
   "source": [
    "# 8_Créer un tableau de série d'entiers successifs allant de 1 à 9 inclus\n",
    "#            la fonction arange() permet de construire un array à une dimension de manière simple\n",
    "#            on peut aussi spécifier une borne de début, une borne de fin et un pas\n",
    "h=np.arange(1, 10)"
   ]
  },
  {
   "cell_type": "code",
   "execution_count": 39,
   "id": "c325ccb6",
   "metadata": {},
   "outputs": [
    {
     "data": {
      "text/plain": [
       "array([1, 2, 3, 4, 5, 6, 7, 8, 9])"
      ]
     },
     "execution_count": 39,
     "metadata": {},
     "output_type": "execute_result"
    }
   ],
   "source": [
    "\n",
    "h"
   ]
  },
  {
   "cell_type": "code",
   "execution_count": 79,
   "id": "a83f959b",
   "metadata": {},
   "outputs": [],
   "source": [
    " # Créer un tableau de 3 lignes et 3 colonnes rempli de série d'entiers successifs allant de 1 à 9 inclus\n",
    "gg=np.array([[1, 2, 3], [4, 5, 6], [7, 8, 9]])"
   ]
  },
  {
   "cell_type": "code",
   "execution_count": 80,
   "id": "90a2f810",
   "metadata": {},
   "outputs": [
    {
     "data": {
      "text/plain": [
       "array([[1, 2, 3],\n",
       "       [4, 5, 6],\n",
       "       [7, 8, 9]])"
      ]
     },
     "execution_count": 80,
     "metadata": {},
     "output_type": "execute_result"
    }
   ],
   "source": [
    "gg"
   ]
  },
  {
   "cell_type": "code",
   "execution_count": 81,
   "id": "f8e09983",
   "metadata": {},
   "outputs": [],
   "source": [
    "# Créer une matrice identité de 4 lignes 4 colonnes\n",
    "# Matrice identité: le diagonale est tjr rempli de 1\n",
    "i=np.identity(4)"
   ]
  },
  {
   "cell_type": "code",
   "execution_count": 82,
   "id": "5999715a",
   "metadata": {},
   "outputs": [
    {
     "data": {
      "text/plain": [
       "array([[1., 0., 0., 0.],\n",
       "       [0., 1., 0., 0.],\n",
       "       [0., 0., 1., 0.],\n",
       "       [0., 0., 0., 1.]])"
      ]
     },
     "execution_count": 82,
     "metadata": {},
     "output_type": "execute_result"
    }
   ],
   "source": [
    "i"
   ]
  },
  {
   "cell_type": "code",
   "execution_count": 84,
   "id": "48a3758d",
   "metadata": {},
   "outputs": [
    {
     "data": {
      "text/plain": [
       "array([], dtype=float64)"
      ]
     },
     "execution_count": 84,
     "metadata": {},
     "output_type": "execute_result"
    }
   ],
   "source": [
    "np.random.rand(0,)"
   ]
  },
  {
   "cell_type": "code",
   "execution_count": null,
   "id": "423a798a",
   "metadata": {},
   "outputs": [],
   "source": []
  }
 ],
 "metadata": {
  "kernelspec": {
   "display_name": "Python 3 (ipykernel)",
   "language": "python",
   "name": "python3"
  },
  "language_info": {
   "codemirror_mode": {
    "name": "ipython",
    "version": 3
   },
   "file_extension": ".py",
   "mimetype": "text/x-python",
   "name": "python",
   "nbconvert_exporter": "python",
   "pygments_lexer": "ipython3",
   "version": "3.11.5"
  }
 },
 "nbformat": 4,
 "nbformat_minor": 5
}
